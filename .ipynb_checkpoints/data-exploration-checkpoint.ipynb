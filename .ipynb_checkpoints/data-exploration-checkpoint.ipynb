{
 "cells": [
  {
   "cell_type": "markdown",
   "id": "a8751d2d-2feb-4c4b-be05-0360729be944",
   "metadata": {},
   "source": [
    "# Data Engineering Internship"
   ]
  },
  {
   "cell_type": "markdown",
   "id": "81b049f4-8e1e-4db8-bc75-ee74a3ca0643",
   "metadata": {},
   "source": [
    "## **Data Exploration**"
   ]
  },
  {
   "cell_type": "markdown",
   "id": "c8629a12-031a-48ff-9c30-5ce18101621b",
   "metadata": {},
   "source": [
    "### **Task 1**\n",
    "\n",
    "**Explore datasets and document schemas, null values, and duplicates in README.md.**"
   ]
  },
  {
   "cell_type": "code",
   "execution_count": 6,
   "id": "1018b479-e4ed-49f7-9925-4a5f4e718d63",
   "metadata": {},
   "outputs": [],
   "source": [
    "# Import libraries\n",
    "\n",
    "import pandas as pd"
   ]
  },
  {
   "cell_type": "code",
   "execution_count": 10,
   "id": "b40498a8-4fb4-4bbf-8132-37423520334a",
   "metadata": {},
   "outputs": [],
   "source": [
    "# Load data\n",
    "\n",
    "click_df = pd.read_csv(\"clickstream.csv\")\n",
    "trans_df = pd.read_csv(\"transactions.csv\")"
   ]
  },
  {
   "cell_type": "code",
   "execution_count": 25,
   "id": "bfa74484-3e31-411b-b81c-bda48ba558ef",
   "metadata": {},
   "outputs": [
    {
     "name": "stdout",
     "output_type": "stream",
     "text": [
      "\n",
      "Clickstream Data\n",
      "\n",
      "<class 'pandas.core.frame.DataFrame'>\n",
      "RangeIndex: 200000 entries, 0 to 199999\n",
      "Data columns (total 6 columns):\n",
      " #   Column      Non-Null Count   Dtype \n",
      "---  ------      --------------   ----- \n",
      " 0   user_id     200000 non-null  int64 \n",
      " 1   session_id  200000 non-null  object\n",
      " 2   page_url    200000 non-null  object\n",
      " 3   click_time  200000 non-null  object\n",
      " 4   device      200000 non-null  object\n",
      " 5   location    200000 non-null  object\n",
      "dtypes: int64(1), object(5)\n",
      "memory usage: 9.2+ MB\n",
      "None\n",
      "\n",
      "Missing values:\n",
      " user_id       0\n",
      "session_id    0\n",
      "page_url      0\n",
      "click_time    0\n",
      "device        0\n",
      "location      0\n",
      "dtype: int64\n",
      "\n",
      "Duplicate rows: 0\n"
     ]
    }
   ],
   "source": [
    "# Explore Clickstream\n",
    "\n",
    "print(\"\\nClickstream Data\\n\")\n",
    "print(click_df.info())\n",
    "print(\"\\nMissing values:\\n\", click_df.isna().sum())\n",
    "print(\"\\nDuplicate rows:\", click_df.duplicated().sum())"
   ]
  },
  {
   "cell_type": "code",
   "execution_count": 23,
   "id": "7d98dfb5-4ad5-411f-9b79-725351a40a4c",
   "metadata": {},
   "outputs": [
    {
     "name": "stdout",
     "output_type": "stream",
     "text": [
      "\n",
      "Transactions Data\n",
      "\n",
      "<class 'pandas.core.frame.DataFrame'>\n",
      "RangeIndex: 100000 entries, 0 to 99999\n",
      "Data columns (total 5 columns):\n",
      " #   Column    Non-Null Count   Dtype  \n",
      "---  ------    --------------   -----  \n",
      " 0   txn_id    100000 non-null  object \n",
      " 1   user_id   100000 non-null  int64  \n",
      " 2   amount    100000 non-null  float64\n",
      " 3   currency  100000 non-null  object \n",
      " 4   txn_time  100000 non-null  object \n",
      "dtypes: float64(1), int64(1), object(3)\n",
      "memory usage: 3.8+ MB\n",
      "None\n",
      "\n",
      "Missing values:\n",
      " txn_id      0\n",
      "user_id     0\n",
      "amount      0\n",
      "currency    0\n",
      "txn_time    0\n",
      "dtype: int64\n",
      "\n",
      "Duplicate rows: 0\n"
     ]
    }
   ],
   "source": [
    "# Explore Transactions\n",
    "\n",
    "print(\"\\nTransactions Data\\n\")\n",
    "print(trans_df.info())\n",
    "print(\"\\nMissing values:\\n\", trans_df.isna().sum())\n",
    "print(\"\\nDuplicate rows:\", trans_df.duplicated().sum())"
   ]
  },
  {
   "cell_type": "markdown",
   "id": "9ddff054-1a35-4358-8aa9-08f167ff0c8e",
   "metadata": {},
   "source": [
    "### **Task 2**\n",
    "\n",
    "**Extract data — read CSVs in chunks (e.g., 50,000 rows) and fetch currency rates via API.**"
   ]
  },
  {
   "cell_type": "code",
   "execution_count": 35,
   "id": "d96c8b54-5593-4b59-a939-5a16691eaaa4",
   "metadata": {},
   "outputs": [
    {
     "name": "stdout",
     "output_type": "stream",
     "text": [
      "Chunk size: 50000\n",
      "Chunk size: 50000\n",
      "Chunk size: 50000\n",
      "Chunk size: 50000\n"
     ]
    }
   ],
   "source": [
    "# Data Extraction\n",
    "\n",
    "for chunk in pd.read_csv(\"clickstream.csv\", chunksize=50000):\n",
    "    print(\"Chunk size:\", len(chunk))"
   ]
  },
  {
   "cell_type": "code",
   "execution_count": 37,
   "id": "9609e95a-2615-4e1a-99db-a712be9e21a4",
   "metadata": {},
   "outputs": [
    {
     "name": "stdout",
     "output_type": "stream",
     "text": [
      "Chunk size: 50000\n",
      "Chunk size: 50000\n"
     ]
    }
   ],
   "source": [
    "for chunk in pd.read_csv(\"transactions.csv\", chunksize=50000):\n",
    "    print(\"Chunk size:\", len(chunk))"
   ]
  },
  {
   "cell_type": "code",
   "execution_count": 44,
   "id": "02371fba-48dd-4b98-ae6b-aa82c3953c37",
   "metadata": {},
   "outputs": [
    {
     "name": "stdout",
     "output_type": "stream",
     "text": [
      "USD to INR: 88.2341\n",
      "Raw JSON saved to: data/raw/api_currency/2025-09-07/exchange_rates.json\n"
     ]
    }
   ],
   "source": [
    "# Fetch currency rates via ExchangeRate API\n",
    "\n",
    "import requests\n",
    "import datetime\n",
    "import json\n",
    "import os\n",
    "\n",
    "API_KEY = \"b74bf2ded174e3515ea87712\"  \n",
    "url = f\"https://v6.exchangerate-api.com/v6/{API_KEY}/latest/USD\" # API Endpoint\n",
    "\n",
    "response = requests.get(url)\n",
    "data = response.json()\n",
    "\n",
    "if response.status_code == 200 and data.get(\"result\") == \"success\":\n",
    "    rates = data[\"conversion_rates\"]\n",
    "    print(\"USD to INR:\", rates.get(\"INR\"))\n",
    "\n",
    "    today = datetime.date.today().strftime(\"%Y-%m-%d\")\n",
    "    save_dir = f\"data/raw/api_currency/{today}\" \n",
    "    os.makedirs(save_dir, exist_ok=True)\n",
    "    save_path = os.path.join(save_dir, \"exchange_rates.json\") # Save raw JSON response\n",
    "\n",
    "    with open(save_path, \"w\", encoding=\"utf-8\") as f:\n",
    "        json.dump(data, f, indent=4)\n",
    "\n",
    "    print(f\"Raw JSON saved to: {save_path}\")\n",
    "\n",
    "else:\n",
    "    print(\"API Error:\", data)"
   ]
  }
 ],
 "metadata": {
  "kernelspec": {
   "display_name": "Python 3 (ipykernel)",
   "language": "python",
   "name": "python3"
  },
  "language_info": {
   "codemirror_mode": {
    "name": "ipython",
    "version": 3
   },
   "file_extension": ".py",
   "mimetype": "text/x-python",
   "name": "python",
   "nbconvert_exporter": "python",
   "pygments_lexer": "ipython3",
   "version": "3.12.4"
  }
 },
 "nbformat": 4,
 "nbformat_minor": 5
}
